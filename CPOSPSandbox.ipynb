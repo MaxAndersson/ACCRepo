{
 "cells": [
  {
   "cell_type": "code",
   "execution_count": null,
   "metadata": {
    "collapsed": false
   },
   "outputs": [],
   "source": [
    "import cposp_server\n",
    "reload(cposp_server)\n",
    "from cposp_server import *\n",
    "\n",
    "server = CPOSPSlave()\n",
    "server.boot()\n",
    "import time\n",
    "time.sleep(2)\n",
    "print server._attach_floating_ip()\n",
    "server._attach_security_group()"
   ]
  },
  {
   "cell_type": "code",
   "execution_count": null,
   "metadata": {
    "collapsed": false
   },
   "outputs": [],
   "source": [
    "import cposp_server\n",
    "reload(cposp_server)\n",
    "from cposp_server import *\n",
    "CPOSPServer.factory()\n",
    "\n",
    "master = CPOSPMaster()\n",
    "master.boot()\n",
    "import time\n",
    "time.sleep(2)\n",
    "print master._attach_floating_ip()\n",
    "master._attach_security_group()"
   ]
  },
  {
   "cell_type": "code",
   "execution_count": null,
   "metadata": {
    "collapsed": false
   },
   "outputs": [],
   "source": [
    "f = open('slave_run.sh')\n",
    "f.readline() + \"MASTER_IP='{}' \\n\".format() + f.read() "
   ]
  },
  {
   "cell_type": "code",
   "execution_count": null,
   "metadata": {
    "collapsed": false
   },
   "outputs": [],
   "source": [
    "#server._attach_floating_ip()\n",
    "#server._deploy_with_context()\n",
    "master._deploy_with_context()"
   ]
  },
  {
   "cell_type": "code",
   "execution_count": null,
   "metadata": {
    "collapsed": false
   },
   "outputs": [],
   "source": [
    "\n",
    "server._server.delete()\n"
   ]
  },
  {
   "cell_type": "code",
   "execution_count": null,
   "metadata": {
    "collapsed": false
   },
   "outputs": [],
   "source": [
    "server._client.images.find(name='CPOSP-Image')"
   ]
  },
  {
   "cell_type": "code",
   "execution_count": 1,
   "metadata": {
    "collapsed": false
   },
   "outputs": [],
   "source": [
    "from cposp_server import *\n",
    "CPOSPServer.factory()\n",
    "server = CPOSPServer._client.servers.find(name = 'CPOSPMaster')"
   ]
  },
  {
   "cell_type": "code",
   "execution_count": 13,
   "metadata": {
    "collapsed": false
   },
   "outputs": [
    {
     "name": "stdout",
     "output_type": "stream",
     "text": [
      "{'key_name': u'CPOSP_key', 'flavor': <Flavor: m1.medium>, 'name': 'CPOSPSlave-b5271285-7899-11e5-af69-68a86d0722f8', 'image': <Image: CPOSPSlave-Image>, 'userdata': '#!/bin/bash\\nMASTER_IP=\\'130.238.29.171\\' \\nexport C_FORCE_ROOT=\"true\"\\nsudo service docker start\\ndocker pull cellprofiler/cellprofiler:master\\ncelery -A cposp_tasks worker -b $MASTER_IP --workdir=/home/ubuntu/ACCRepo\\n'}\n"
     ]
    }
   ],
   "source": [
    "\n",
    "from cposp_server import *\n",
    "CPOSPSlave._master = server\n",
    "#CPOSPSlave().boot()\n",
    "servers = CPOSPSlave.boot_n(1)"
   ]
  },
  {
   "cell_type": "code",
   "execution_count": 12,
   "metadata": {
    "collapsed": false
   },
   "outputs": [],
   "source": [
    "servers = CPOSPServer._client.servers.find(name = 'CPOSPSlave-cbb74c23-7898-11e5-ac4e-68a86d0722f8')"
   ]
  },
  {
   "cell_type": "code",
   "execution_count": null,
   "metadata": {
    "collapsed": true
   },
   "outputs": [],
   "source": [
    "import os\n",
    "os.popen('curl localhost:5000/objects')"
   ]
  },
  {
   "cell_type": "code",
   "execution_count": null,
   "metadata": {
    "collapsed": true
   },
   "outputs": [],
   "source": [
    "servers.get_console_"
   ]
  },
  {
   "cell_type": "code",
   "execution_count": null,
   "metadata": {
    "collapsed": true
   },
   "outputs": [],
   "source": [
    "def lab2Containers():\n",
    "    import re\n",
    "    (response, bucket_list) = conn.get_account()\n",
    "    e  = re.compile('CPOSPSlave-*')\n",
    "\n",
    "    for bucket in bucket_list:\n",
    "           if e.match(bucket['name']):\n",
    "            (response, ObjList) = conn.get_container(bucket['name'])\n",
    "            print bucket['name']\n",
    "            for Obj in ObjList:\n",
    "                print Obj['name']\n",
    "                conn.delete_object(bucket['name'],Obj['name'])\n",
    "            conn.delete_container(bucket['name'])\n",
    "            print 'Deleted {0}'.format(bucket['name'])"
   ]
  },
  {
   "cell_type": "code",
   "execution_count": null,
   "metadata": {
    "collapsed": false
   },
   "outputs": [],
   "source": [
    "import uuid\n",
    "str(uuid.uuid1())"
   ]
  },
  {
   "cell_type": "code",
   "execution_count": null,
   "metadata": {
    "collapsed": false
   },
   "outputs": [],
   "source": [
    "CPOSPServer._client.images.find(name='CPOSPSlave-Image')"
   ]
  },
  {
   "cell_type": "code",
   "execution_count": null,
   "metadata": {
    "collapsed": false
   },
   "outputs": [],
   "source": [
    "apo = CPOSPServer._client.servers.ips(server.id)\n",
    "key = apo.keys().pop()\n",
    "print apo[key].pop()['addr']"
   ]
  },
  {
   "cell_type": "code",
   "execution_count": null,
   "metadata": {
    "collapsed": false
   },
   "outputs": [],
   "source": [
    "import json\n",
    "[sg  for sg in server._client.security_groups.list() if sg.name == 'CPOSP'][0\n",
    "ips = server._client.servers.ips(server._server)\n",
    "for key, elm in ips.items():\n",
    "    for address in elm:\n",
    "        print address['addr']"
   ]
  }
 ],
 "metadata": {
  "kernelspec": {
   "display_name": "Python 2",
   "language": "python",
   "name": "python2"
  },
  "language_info": {
   "codemirror_mode": {
    "name": "ipython",
    "version": 2
   },
   "file_extension": ".py",
   "mimetype": "text/x-python",
   "name": "python",
   "nbconvert_exporter": "python",
   "pygments_lexer": "ipython2",
   "version": "2.7.10"
  }
 },
 "nbformat": 4,
 "nbformat_minor": 0
}
